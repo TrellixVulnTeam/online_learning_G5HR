{
 "cells": [
  {
   "cell_type": "code",
   "execution_count": 21,
   "metadata": {},
   "outputs": [],
   "source": [
    "import numpy as np\n",
    "import pandas as pd\n",
    "from numba import njit \n",
    "from collections import namedtuple\n",
    "import random\n",
    "import math\n",
    "from collections import namedtuple\n",
    "\n",
    "Point = namedtuple(\"Point\", ['x', 'y'])"
   ]
  },
  {
   "cell_type": "code",
   "execution_count": null,
   "metadata": {},
   "outputs": [],
   "source": [
    "a=[1,2,3]\n",
    "\n",
    "@njit(fastmath=True) \n",
    "def numba_test(a):\n",
    "    for i in range(len(a)):\n",
    "        a[i]= a[i]*2\n",
    "    return a.pop()\n",
    "        \n",
    "numba_test(a)"
   ]
  },
  {
   "cell_type": "code",
   "execution_count": 42,
   "metadata": {},
   "outputs": [
    {
     "data": {
      "text/plain": [
       "[6, 4, 2]"
      ]
     },
     "execution_count": 42,
     "metadata": {},
     "output_type": "execute_result"
    }
   ],
   "source": [
    "a=[1,2,3]\n",
    "\n",
    "@njit(fastmath=True) \n",
    "def numba_test(a):\n",
    "    m=[]\n",
    "    while len(a)!=0:\n",
    "        k=a.pop()*2\n",
    "        m.append(k)\n",
    "    return m\n",
    "        \n",
    "numba_test(a)"
   ]
  },
  {
   "cell_type": "code",
   "execution_count": 2,
   "metadata": {},
   "outputs": [
    {
     "data": {
      "text/plain": [
       "375.41104428850156"
      ]
     },
     "execution_count": 2,
     "metadata": {},
     "output_type": "execute_result"
    }
   ],
   "source": [
    "np.random.exponential(1000)"
   ]
  },
  {
   "cell_type": "code",
   "execution_count": 22,
   "metadata": {},
   "outputs": [],
   "source": [
    "with open('tsp_5_1.txt') as input_data:\n",
    "#     lines = input_data.split('\\n')\n",
    "    lines= list(input_data)\n",
    "\n",
    "    nodeCount = int(lines[0])\n",
    "\n",
    "    points = []\n",
    "    for i in range(1, nodeCount+1):\n",
    "        line = lines[i]\n",
    "        parts = line.split()\n",
    "        points.append(Point(float(parts[0]), float(parts[1])))"
   ]
  },
  {
   "cell_type": "markdown",
   "metadata": {},
   "source": [
    "## greedy search"
   ]
  },
  {
   "cell_type": "code",
   "execution_count": 23,
   "metadata": {},
   "outputs": [
    {
     "data": {
      "text/plain": [
       "[0, 4, 3, 2, 1]"
      ]
     },
     "execution_count": 23,
     "metadata": {},
     "output_type": "execute_result"
    }
   ],
   "source": [
    "def length(point1, point2):\n",
    "    return math.sqrt((point1.x - point2.x)**2 + (point1.y - point2.y)**2)\n",
    "##a very pool greedy search\n",
    "solution_points=[points[i-1]]\n",
    "solution_index=[0]\n",
    "available_points=list(range(1,nodeCount))\n",
    "\n",
    "for position in range(1,nodeCount):\n",
    "    better_point= available_points[0]\n",
    "    dis= length(solution_points[position-1], points[better_point])\n",
    "    for k in available_points:\n",
    "        if length(solution_points[position-1], points[k])< dis:\n",
    "            better_point= k\n",
    "            dis=length(solution_points[position-1], points[k])\n",
    "    solution_index.append(better_point)\n",
    "    solution_points.append(points[better_point])\n",
    "    available_points.pop((better_point-1))\n",
    "\n",
    "\n",
    "solution_points\n",
    "solution_index    \n",
    "solution=solution_index           \n",
    "obj = length(points[solution[-1]], points[solution[0]])\n",
    "for index in range(0, nodeCount-1):\n",
    "    obj += length(points[solution[index]], points[solution[index+1]])\n",
    "\n",
    "solution"
   ]
  },
  {
   "cell_type": "markdown",
   "metadata": {},
   "source": [
    "## 2-opt local search"
   ]
  },
  {
   "cell_type": "code",
   "execution_count": 24,
   "metadata": {},
   "outputs": [
    {
     "data": {
      "text/plain": [
       "[0, 1, 2, 3, 4]"
      ]
     },
     "execution_count": 24,
     "metadata": {},
     "output_type": "execute_result"
    }
   ],
   "source": [
    "##regular swap using list, instead of np.array\n",
    "def swap_dist(index_1, index_2, solution):\n",
    "    l= len(solution)\n",
    "    curr_dist=length(points[solution[((index_1-1)%l)]], points[solution[index_1]]) + length(points[solution[((index_2+1)%l)]], points[solution[index_2]])\n",
    "    swap_dist= length(points[solution[((index_1-1)%l)]], points[solution[index_2]]) + length(points[solution[((index_2+1)%l)]], points[solution[index_1]])\n",
    "    return swap_dist-curr_dist\n",
    "\n",
    "\n",
    "solution=list(range(nodeCount))\n",
    "for i in range(10):\n",
    "    for position in range(1,nodeCount):\n",
    "        curr_dist=0\n",
    "        best_point = solution[position]\n",
    "        original_point= solution[position]\n",
    "        best_index=position\n",
    "        for index in range(position+1, nodeCount):\n",
    "            if swap_dist(position, index, solution)<=curr_dist:\n",
    "                curr_dist= swap_dist(position, index, solution)\n",
    "                best_point= solution[index]\n",
    "                best_index=index\n",
    "        solution[position] = best_point\n",
    "        solution[best_index] = original_point\n",
    "\n",
    "# calculate the length of the tour\n",
    "obj = length(points[solution[-1]], points[solution[0]])\n",
    "for index in range(0, nodeCount-1):\n",
    "    obj += length(points[solution[index]], points[solution[index+1]])\n",
    "\n",
    "solution"
   ]
  },
  {
   "cell_type": "markdown",
   "metadata": {},
   "source": [
    "## 2-opt search using numba"
   ]
  },
  {
   "cell_type": "code",
   "execution_count": 25,
   "metadata": {},
   "outputs": [],
   "source": [
    "with open('tsp_5_1.txt') as input_data:\n",
    "#     lines = input_data.split('\\n')\n",
    "    lines= list(input_data)\n",
    "\n",
    "    nodeCount = int(lines[0])\n",
    "\n",
    "#     points = []\n",
    "#     for i in range(1, nodeCount+1):\n",
    "#         line = lines[i]\n",
    "#         parts = line.split()\n",
    "#         points.append(Point(float(parts[0]), float(parts[1])))\n",
    "\n",
    "    points_np=np.zeros((nodeCount,2))\n",
    "    for i in range(1, nodeCount+1):\n",
    "        line = lines[i]\n",
    "        parts = line.split()\n",
    "        points_np[i-1][0]= float(parts[0])\n",
    "        points_np[i-1][1]= float(parts[1])\n",
    "    \n",
    "    solution=np.zeros(nodeCount)\n",
    "    for i in range(nodeCount):\n",
    "        solution[i]=i"
   ]
  },
  {
   "cell_type": "code",
   "execution_count": 26,
   "metadata": {},
   "outputs": [],
   "source": [
    "import numpy as np\n",
    "from numba import njit \n",
    "\n",
    "@njit(fastmath=True) \n",
    "def numba_swap(points_np, solution,nodeCount):\n",
    "    \n",
    "    ## 2-OPT swap local search:\n",
    "    for position in range(1,nodeCount):\n",
    "        curr_dist=0\n",
    "        best_point = solution[position]\n",
    "        original_point= solution[position]\n",
    "        best_index=position\n",
    "        for index in range(position+1, nodeCount):\n",
    "            if swap_dist(position, index, solution)<=curr_dist:\n",
    "                curr_dist= swap_dist(position, index, solution)\n",
    "                best_point= solution[index]\n",
    "                best_index=index\n",
    "        solution[position] = best_point\n",
    "        solution[best_index] = original_point\n",
    "    \n",
    "    return solution\n",
    "\n",
    "@njit(fastmath=True) \n",
    "def swap_dist(index_1, index_2, solution):\n",
    "    l= len(solution)\n",
    "    curr_dist=length(points_np[int(solution[((index_1-1)%l)])], points_np[int(solution[index_1])]) + length(points_np[int(solution[((index_2+1)%l)])], points_np[int(solution[index_2])]) \n",
    "    swap_dist= length(points_np[int(solution[((index_1-1)%l)])], points_np[int(solution[index_2])])  + length(points_np[int(solution[((index_2+1)%l)])], points_np[int(solution[index_1])])\n",
    "    return swap_dist-curr_dist\n",
    "    \n",
    "@njit(fastmath=True) \n",
    "def length(point1, point2):\n",
    "    return math.sqrt((point1[0] - point2[0])**2 + (point1[1] - point2[1])**2)"
   ]
  },
  {
   "cell_type": "code",
   "execution_count": 27,
   "metadata": {},
   "outputs": [
    {
     "data": {
      "text/plain": [
       "array([0, 1, 2, 3, 4])"
      ]
     },
     "execution_count": 27,
     "metadata": {},
     "output_type": "execute_result"
    }
   ],
   "source": [
    "for n in range(10):\n",
    "    solution= numba_swap(points_np, solution,nodeCount)\n",
    "    solution=solution.astype(int)\n",
    "solution"
   ]
  },
  {
   "cell_type": "markdown",
   "metadata": {},
   "source": [
    "## 2-opt search using numba and simulated annealing"
   ]
  },
  {
   "cell_type": "code",
   "execution_count": 36,
   "metadata": {},
   "outputs": [],
   "source": [
    "with open(r'data/tsp_51_1.txt') as input_data:\n",
    "#     lines = input_data.split('\\n')\n",
    "    lines= list(input_data)\n",
    "\n",
    "    nodeCount = int(lines[0])\n",
    "    \n",
    "    \n",
    "    points = []\n",
    "    for i in range(1, nodeCount+1):\n",
    "        line = lines[i]\n",
    "        parts = line.split()\n",
    "        points.append(Point(float(parts[0]), float(parts[1])))\n",
    "    \n",
    "    \n",
    "    points_np=np.zeros((nodeCount,2))\n",
    "    for i in range(1, nodeCount+1):\n",
    "        line = lines[i]\n",
    "        parts = line.split()\n",
    "        points_np[i-1][0]= float(parts[0])\n",
    "        points_np[i-1][1]= float(parts[1])\n",
    "    \n",
    "    solution=np.zeros(nodeCount)\n",
    "    for i in range(nodeCount):\n",
    "        solution[i]=i"
   ]
  },
  {
   "cell_type": "code",
   "execution_count": 37,
   "metadata": {},
   "outputs": [],
   "source": [
    "def length_obj(point1, point2):\n",
    "    return math.sqrt((point1.x - point2.x)**2 + (point1.y - point2.y)**2)\n",
    "\n",
    "\n",
    "\n",
    "@njit(fastmath=True) \n",
    "def numba_swap(points_np, solution,nodeCount, t=0.000000001):\n",
    "\n",
    "    ## 2-OPT swap local search:\n",
    "    for position in range(1,nodeCount):\n",
    "#         curr_dist=0\n",
    "#         best_point = solution[position]\n",
    "#         original_point= solution[position]\n",
    "#         best_index=position\n",
    "        for index in range(1, nodeCount):\n",
    "            orginal_point= int(solution[position])\n",
    "            if swap_dist(position, index, solution, points_np)<=0:\n",
    "#                 curr_dist= swap_dist(position, index, solution, points_np)\n",
    "#                 best_point= solution[index]\n",
    "#                 best_index=index\n",
    "                solution[position]= int(solution[index])\n",
    "                solution[index] = original_point\n",
    "                \n",
    "        \n",
    "#             elif np.exp(-(swap_dist(position, index, solution, points_np)- curr_dist)/t)>=random.random():\n",
    "#                 best_point= solution[index]\n",
    "#                 best_index=index\n",
    "# #                 m=solution[index]\n",
    "# #                 solution[position]= m\n",
    "# #                 solution[index] = original_point\n",
    "                \n",
    "#         solution[position] = best_point\n",
    "#         solution[best_index] = original_point\n",
    "    \n",
    "    return solution\n",
    "\n",
    "\n",
    "@njit(fastmath=True) \n",
    "def swap_dist(index_1, index_2, solution, points_np):\n",
    "    l= len(solution)\n",
    "    index_low= min(index_1, index_2)\n",
    "    index_high=max(index_1, index_2)\n",
    "    if index_high-index_low==1:\n",
    "        curr_dist=(length(points_np[int(solution[((index_low-1)%l)])], points_np[int(solution[index_low])])+ length(points_np[int(solution[((index_high+1)%l)])], points_np[int(solution[index_high])]))\n",
    "        swap_dist=(length(points_np[int(solution[((index_low-1)%l)])], points_np[int(solution[index_high])])+length(points_np[int(solution[((index_high+1)%l)])],points_np[int(solution[index_low])]))\n",
    "\n",
    "    else:\n",
    "        curr_dist=(length(points_np[int(solution[((index_low-1)%l)])], points_np[int(solution[index_low])])+length(points_np[int(solution[((index_low+1)%l)])], points_np[int(solution[index_low])])\n",
    "        + length(points_np[int(solution[((index_high-1)%l)])], points_np[int(solution[index_high])])+ length(points_np[int(solution[((index_high+1)%l)])], points_np[int(solution[index_high])]))\n",
    "        swap_dist= (length(points_np[int(solution[((index_low-1)%l)])], points_np[int(solution[index_high])]) + length(points_np[int(solution[((index_low+1)%l)])], points_np[int(solution[index_high])])\n",
    "        + length(points_np[int(solution[((index_high+1)%l)])], points_np[int(solution[index_low])]) + length(points_np[int(solution[((index_high-1)%l)])], points_np[int(solution[index_low])]))\n",
    "    return swap_dist-curr_dist\n",
    "        \n",
    "@njit(fastmath=True) \n",
    "def length(point1, point2):\n",
    "    return math.sqrt((point1[0] - point2[0])**2 + (point1[1] - point2[1])**2)"
   ]
  },
  {
   "cell_type": "code",
   "execution_count": 201,
   "metadata": {},
   "outputs": [
    {
     "data": {
      "text/plain": [
       "1.0"
      ]
     },
     "execution_count": 201,
     "metadata": {},
     "output_type": "execute_result"
    }
   ],
   "source": [
    "length(points_np[0], points_np[2])"
   ]
  },
  {
   "cell_type": "code",
   "execution_count": null,
   "metadata": {},
   "outputs": [],
   "source": [
    "0 1 2 3 4  ;   0 4 2 3 1    01+12+23+34   03+32 +21+ 14"
   ]
  },
  {
   "cell_type": "code",
   "execution_count": null,
   "metadata": {},
   "outputs": [],
   "source": [
    "1 and 2 : 01+12+21+23 02+21+12+13"
   ]
  },
  {
   "cell_type": "code",
   "execution_count": null,
   "metadata": {},
   "outputs": [],
   "source": [
    "0 1 2 3 4 5: 1 and 4: 01+12+34+35  04+42+13+15"
   ]
  },
  {
   "cell_type": "code",
   "execution_count": 213,
   "metadata": {},
   "outputs": [],
   "source": [
    "solution=[0,3,2,1,4]"
   ]
  },
  {
   "cell_type": "code",
   "execution_count": 214,
   "metadata": {},
   "outputs": [
    {
     "name": "stdout",
     "output_type": "stream",
     "text": [
      "curr 2.118033988749895\n",
      "0.0\n",
      "swap 2.53224755112299\n"
     ]
    },
    {
     "data": {
      "text/plain": [
       "0.4142135623730949"
      ]
     },
     "execution_count": 214,
     "metadata": {},
     "output_type": "execute_result"
    }
   ],
   "source": [
    "swap_dist(2, 3, solution, points_np)"
   ]
  },
  {
   "cell_type": "code",
   "execution_count": 218,
   "metadata": {},
   "outputs": [
    {
     "data": {
      "text/plain": [
       "array([0., 1., 2., 3., 4.])"
      ]
     },
     "execution_count": 218,
     "metadata": {},
     "output_type": "execute_result"
    }
   ],
   "source": [
    "solution"
   ]
  },
  {
   "cell_type": "code",
   "execution_count": 210,
   "metadata": {},
   "outputs": [
    {
     "data": {
      "text/plain": [
       "5.03224755112299"
      ]
     },
     "execution_count": 210,
     "metadata": {},
     "output_type": "execute_result"
    }
   ],
   "source": [
    "best_solution=[0,3,2,1,4]\n",
    "obj = length(points_np[int(best_solution[-1])], points_np[int(best_solution[0])])\n",
    "for index in range(0, nodeCount-1):\n",
    "    obj += length(points_np[int(best_solution[index])], points_np[int(best_solution[index+1])])\n",
    "obj\n"
   ]
  },
  {
   "cell_type": "code",
   "execution_count": 211,
   "metadata": {},
   "outputs": [
    {
     "data": {
      "text/plain": [
       "5.446461113496085"
      ]
     },
     "execution_count": 211,
     "metadata": {},
     "output_type": "execute_result"
    }
   ],
   "source": [
    "best_solution=[0,3,1,2,4]\n",
    "obj = length(points_np[int(best_solution[-1])], points_np[int(best_solution[0])])\n",
    "for index in range(0, nodeCount-1):\n",
    "    obj += length(points_np[int(best_solution[index])], points_np[int(best_solution[index+1])])\n",
    "obj\n"
   ]
  },
  {
   "cell_type": "code",
   "execution_count": 38,
   "metadata": {},
   "outputs": [],
   "source": [
    "best_obj=10000000000000000\n",
    "best_solution=[]\n",
    "for i in range(10):\n",
    "    for k in range(100):\n",
    "        solution= numba_swap(points_np, solution,nodeCount,(i*8+1)/80)\n",
    "        solution=solution.astype(int)\n",
    "        obj = length_obj(points[solution[-1]], points[solution[0]])\n",
    "        for index in range(0, nodeCount-1):\n",
    "            obj += length_obj(points[solution[index]], points[solution[index+1]])\n",
    "\n",
    "        if obj<=best_obj:\n",
    "            best_solution=[]\n",
    "            for point_index in solution:\n",
    "                best_solution.append(point_index)\n",
    "# calculate the length of the tour\n",
    "obj = length(points_np[int(best_solution[-1])], points_np[int(best_solution[0])])\n",
    "for index in range(0, nodeCount-1):\n",
    "    obj += length(points_np[int(best_solution[index])], points_np[int(best_solution[index+1])])\n"
   ]
  },
  {
   "cell_type": "code",
   "execution_count": 39,
   "metadata": {},
   "outputs": [
    {
     "data": {
      "text/plain": [
       "[0,\n",
       " 4,\n",
       " 4,\n",
       " 4,\n",
       " 4,\n",
       " 4,\n",
       " 4,\n",
       " 4,\n",
       " 4,\n",
       " 4,\n",
       " 4,\n",
       " 4,\n",
       " 4,\n",
       " 4,\n",
       " 4,\n",
       " 4,\n",
       " 4,\n",
       " 4,\n",
       " 4,\n",
       " 4,\n",
       " 4,\n",
       " 4,\n",
       " 4,\n",
       " 4,\n",
       " 4,\n",
       " 4,\n",
       " 4,\n",
       " 4,\n",
       " 4,\n",
       " 4,\n",
       " 4,\n",
       " 4,\n",
       " 4,\n",
       " 4,\n",
       " 4,\n",
       " 4,\n",
       " 4,\n",
       " 4,\n",
       " 4,\n",
       " 4,\n",
       " 4,\n",
       " 4,\n",
       " 4,\n",
       " 4,\n",
       " 4,\n",
       " 4,\n",
       " 4,\n",
       " 4,\n",
       " 4,\n",
       " 4,\n",
       " 4]"
      ]
     },
     "execution_count": 39,
     "metadata": {},
     "output_type": "execute_result"
    }
   ],
   "source": [
    "best_solution"
   ]
  },
  {
   "cell_type": "code",
   "execution_count": 270,
   "metadata": {},
   "outputs": [
    {
     "data": {
      "text/plain": [
       "4.0"
      ]
     },
     "execution_count": 270,
     "metadata": {},
     "output_type": "execute_result"
    }
   ],
   "source": [
    "obj"
   ]
  },
  {
   "cell_type": "code",
   "execution_count": 223,
   "metadata": {},
   "outputs": [
    {
     "data": {
      "text/plain": [
       "[0,\n",
       " 49,\n",
       " 50,\n",
       " 4,\n",
       " 4,\n",
       " 4,\n",
       " 4,\n",
       " 4,\n",
       " 4,\n",
       " 4,\n",
       " 4,\n",
       " 4,\n",
       " 4,\n",
       " 4,\n",
       " 4,\n",
       " 4,\n",
       " 4,\n",
       " 4,\n",
       " 4,\n",
       " 4,\n",
       " 4,\n",
       " 4,\n",
       " 4,\n",
       " 4,\n",
       " 4,\n",
       " 4,\n",
       " 4,\n",
       " 4,\n",
       " 4,\n",
       " 4,\n",
       " 4,\n",
       " 4,\n",
       " 4,\n",
       " 4,\n",
       " 4,\n",
       " 4,\n",
       " 4,\n",
       " 4,\n",
       " 4,\n",
       " 4,\n",
       " 4,\n",
       " 4,\n",
       " 4,\n",
       " 4,\n",
       " 4,\n",
       " 4,\n",
       " 4,\n",
       " 4,\n",
       " 4,\n",
       " 4,\n",
       " 4]"
      ]
     },
     "execution_count": 223,
     "metadata": {},
     "output_type": "execute_result"
    }
   ],
   "source": [
    "best_solution"
   ]
  },
  {
   "cell_type": "code",
   "execution_count": 109,
   "metadata": {},
   "outputs": [
    {
     "data": {
      "text/plain": [
       "175.3323831946298"
      ]
     },
     "execution_count": 109,
     "metadata": {},
     "output_type": "execute_result"
    }
   ],
   "source": [
    "obj"
   ]
  },
  {
   "cell_type": "code",
   "execution_count": 75,
   "metadata": {
    "scrolled": true
   },
   "outputs": [],
   "source": [
    "best_obj=10000000000000000\n",
    "best_solution=[]\n",
    "for i in range(10):\n",
    "    for k in range(3):\n",
    "        solution= numba_swap(points_np, solution,nodeCount, (i*8+1)/100)\n",
    "        solution=solution.astype(int)\n",
    "        obj = length_obj(points[solution[-1]], points[solution[0]])\n",
    "        for index in range(0, nodeCount-1):\n",
    "            obj += length_obj(points[solution[index]], points[solution[index+1]])\n",
    "\n",
    "        if obj<=best_obj:\n",
    "            best_solution=[]\n",
    "            for point_index in solution:\n",
    "                best_solution.append(point_index)\n",
    "\n",
    "n=0\n",
    "while n>3:\n",
    "    solution= numba_swap(points_np, solution,nodeCount)\n",
    "    solution=solution.astype(int)\n",
    "    obj = length_obj(points[solution[-1]], points[solution[0]])\n",
    "    for index in range(0, nodeCount-1):\n",
    "        obj += length_obj(points[solution[index]], points[solution[index+1]])\n",
    "\n",
    "    if obj<=best_obj:\n",
    "        best_solution=[]\n",
    "        for point_index in solution:\n",
    "            best_solution.append(point_index)\n",
    "    else:\n",
    "        n+=1\n",
    "\n",
    "solution= best_solution\n",
    "# calculate the length of the tour\n",
    "obj = length(points_np[int(solution[-1])], points_np[int(solution[0])])\n",
    "for index in range(0, nodeCount-1):\n",
    "    obj += length(points_np[int(solution[index])], points_np[int(solution[index+1])])\n"
   ]
  },
  {
   "cell_type": "code",
   "execution_count": 76,
   "metadata": {},
   "outputs": [
    {
     "data": {
      "text/plain": [
       "573.9837201018063"
      ]
     },
     "execution_count": 76,
     "metadata": {},
     "output_type": "execute_result"
    }
   ],
   "source": [
    "obj"
   ]
  },
  {
   "cell_type": "code",
   "execution_count": 56,
   "metadata": {},
   "outputs": [
    {
     "data": {
      "text/plain": [
       "[0, 33, 47, 26, 6]"
      ]
     },
     "execution_count": 56,
     "metadata": {},
     "output_type": "execute_result"
    }
   ],
   "source": [
    "solution[:5]"
   ]
  },
  {
   "cell_type": "code",
   "execution_count": 18,
   "metadata": {},
   "outputs": [],
   "source": [
    "###previous method saved:\n",
    "def length_obj(point1, point2):\n",
    "    return math.sqrt((point1.x - point2.x)**2 + (point1.y - point2.y)**2)\n",
    "\n",
    "\n",
    "@njit(fastmath=True) \n",
    "def numba_swap(points_np, solution,nodeCount, t=0.000000001):\n",
    "\n",
    "    ## 2-OPT swap local search:\n",
    "    for position in range(1,nodeCount):\n",
    "        curr_dist=0\n",
    "#         best_point = solution[position]\n",
    "#         original_point= solution[position]\n",
    "#         best_index=position\n",
    "        for index in range(position+1, nodeCount):\n",
    "            orginal_point= solution[position]\n",
    "            if swap_dist(position, index, solution, points_np)<=curr_dist:\n",
    "                curr_dist= swap_dist(position, index, solution, points_np)\n",
    "#                 best_point= solution[index]\n",
    "#                 best_index=index\n",
    "                solution[position]= solution[index]\n",
    "                solution[index] = original_point\n",
    "\n",
    "                \n",
    "            \n",
    "\n",
    "#             elif np.exp(-(swap_dist(position, index, solution, points_np)- curr_dist)/t)>=random.random():\n",
    "#                 best_point= solution[index]\n",
    "#                 best_index=index\n",
    "# #                 m=solution[index]\n",
    "# #                 solution[position]= m\n",
    "# #                 solution[index] = original_point\n",
    "                \n",
    "#         solution[position] = best_point\n",
    "#         solution[best_index] = original_point\n",
    "    \n",
    "    return solution\n",
    "\n",
    "\n",
    "@njit(fastmath=True) \n",
    "def swap_dist(index_1, index_2, solution, points_np):\n",
    "    l= len(solution)\n",
    "    index_low= min(index_1, index_2)\n",
    "    index_high=max(index_1, index_2)\n",
    "    if index_high-index_low==1:\n",
    "        curr_dist=(length(points_np[int(solution[((index_low-1)%l)])], points_np[int(solution[index_low])])+ length(points_np[int(solution[((index_high+1)%l)])], points_np[int(solution[index_high])]))\n",
    "        swap_dist=(length(points_np[int(solution[((index_low-1)%l)])], points_np[int(solution[index_high])])+length(points_np[int(solution[((index_high+1)%l)])],points_np[int(solution[index_low])]))\n",
    "\n",
    "    else:\n",
    "        curr_dist=(length(points_np[int(solution[((index_low-1)%l)])], points_np[int(solution[index_low])])+length(points_np[int(solution[((index_low+1)%l)])], points_np[int(solution[index_low])])\n",
    "        + length(points_np[int(solution[((index_high-1)%l)])], points_np[int(solution[index_high])])+ length(points_np[int(solution[((index_high+1)%l)])], points_np[int(solution[index_high])]))\n",
    "        swap_dist= (length(points_np[int(solution[((index_low-1)%l)])], points_np[int(solution[index_high])]) + length(points_np[int(solution[((index_low+1)%l)])], points_np[int(solution[index_high])])\n",
    "        + length(points_np[int(solution[((index_high+1)%l)])], points_np[int(solution[index_low])]) + length(points_np[int(solution[((index_high-1)%l)])], points_np[int(solution[index_low])]))\n",
    "    return swap_dist-curr_dist\n",
    "        \n",
    "@njit(fastmath=True) \n",
    "def length(point1, point2):\n",
    "    return math.sqrt((point1[0] - point2[0])**2 + (point1[1] - point2[1])**2)"
   ]
  },
  {
   "cell_type": "markdown",
   "metadata": {},
   "source": [
    "## K-opt local search with random start and SA"
   ]
  },
  {
   "cell_type": "code",
   "execution_count": null,
   "metadata": {},
   "outputs": [],
   "source": []
  },
  {
   "cell_type": "code",
   "execution_count": null,
   "metadata": {},
   "outputs": [],
   "source": []
  },
  {
   "cell_type": "code",
   "execution_count": null,
   "metadata": {},
   "outputs": [],
   "source": []
  },
  {
   "cell_type": "code",
   "execution_count": null,
   "metadata": {},
   "outputs": [],
   "source": []
  },
  {
   "cell_type": "markdown",
   "metadata": {},
   "source": [
    "## MIP"
   ]
  },
  {
   "cell_type": "code",
   "execution_count": null,
   "metadata": {},
   "outputs": [],
   "source": []
  },
  {
   "cell_type": "code",
   "execution_count": null,
   "metadata": {},
   "outputs": [],
   "source": []
  },
  {
   "cell_type": "code",
   "execution_count": null,
   "metadata": {},
   "outputs": [],
   "source": []
  },
  {
   "cell_type": "code",
   "execution_count": null,
   "metadata": {},
   "outputs": [],
   "source": []
  },
  {
   "cell_type": "code",
   "execution_count": null,
   "metadata": {},
   "outputs": [],
   "source": []
  }
 ],
 "metadata": {
  "kernelspec": {
   "display_name": "Python 3",
   "language": "python",
   "name": "python3"
  },
  "language_info": {
   "codemirror_mode": {
    "name": "ipython",
    "version": 3
   },
   "file_extension": ".py",
   "mimetype": "text/x-python",
   "name": "python",
   "nbconvert_exporter": "python",
   "pygments_lexer": "ipython3",
   "version": "3.7.1"
  }
 },
 "nbformat": 4,
 "nbformat_minor": 2
}
